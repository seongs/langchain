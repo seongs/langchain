{
 "cells": [
  {
   "cell_type": "code",
   "execution_count": 3,
   "id": "35425a9e-8e9f-4225-9ea1-75b724db1359",
   "metadata": {},
   "outputs": [],
   "source": [
    "from elasticsearch import Elasticsearch\n",
    "from langchain.embeddings import HuggingFaceEmbeddings\n",
    "from langchain_elasticsearch import ElasticsearchStore\n",
    "from langchain.schema import Document"
   ]
  },
  {
   "cell_type": "code",
   "execution_count": 4,
   "id": "2574575e-13ca-4c88-8976-7269967caaac",
   "metadata": {},
   "outputs": [
    {
     "name": "stderr",
     "output_type": "stream",
     "text": [
      "/tmp/ipykernel_70071/2547814963.py:1: DeprecationWarning: The 'http_auth' parameter is deprecated. Use 'basic_auth' or 'bearer_auth' parameters instead\n",
      "  es_client = Elasticsearch(\n"
     ]
    }
   ],
   "source": [
    "es_client = Elasticsearch(\n",
    "    hosts=[\"http://loacalhost:9200\"],\n",
    "    http_auth=('elastic', '**********'),\n",
    ")"
   ]
  },
  {
   "cell_type": "code",
   "execution_count": 5,
   "id": "47a240a1-46c5-4fbf-b2b7-8a2d5520a11b",
   "metadata": {},
   "outputs": [
    {
     "data": {
      "text/plain": [
       "ObjectApiResponse({'name': 'node-1', 'cluster_name': 'ksy_cl', 'cluster_uuid': 'TSNnkHhQQGSIHlLRuOCB9w', 'version': {'number': '8.12.2', 'build_flavor': 'default', 'build_type': 'tar', 'build_hash': '48a287ab9497e852de30327444b0809e55d46466', 'build_date': '2024-02-19T10:04:32.774273190Z', 'build_snapshot': False, 'lucene_version': '9.9.2', 'minimum_wire_compatibility_version': '7.17.0', 'minimum_index_compatibility_version': '7.0.0'}, 'tagline': 'You Know, for Search'})"
      ]
     },
     "execution_count": 5,
     "metadata": {},
     "output_type": "execute_result"
    }
   ],
   "source": [
    "es_client.info()"
   ]
  },
  {
   "cell_type": "code",
   "execution_count": 6,
   "id": "683a212b-51d8-47e2-b5ae-688f79d70a3c",
   "metadata": {},
   "outputs": [],
   "source": [
    "docs = [\n",
    "    Document(\n",
    "        page_content=\"많은 과학자들이 공룡을 되살려내고 대혼란을 일으킵니다\",\n",
    "        metadata={\"id\": 1,\"name\":\"kim\"},\n",
    "    ),\n",
    "    Document(\n",
    "        page_content=\"레오 디카프리오는 꿈속에서 꿈속에서 길을 잃습니다...\",\n",
    "        metadata={\"id\": 2,\"name\":\"lee\"},\n",
    "    ),\n",
    "    Document(\n",
    "        page_content=\"심리학자/탐정이 꿈속에서 꿈속에서 일련의 꿈속에서 길을 잃고 인셉은 이 아이디어를 재사용합니다\",\n",
    "        metadata={\"id\": 3,\"name\":\"choi\"},\n",
    "    ),\n",
    "    Document(\n",
    "        page_content=\"보통 크기의 여자들은 아주 건강하고 어떤 남자들은 그들을 따라 합니다\",\n",
    "        metadata={\"id\": 4,\"name\":\"park\"},\n",
    "    ),\n",
    "    Document(\n",
    "        page_content=\"장난감은 살아나고 그렇게 하면서 즐거운 시간을 보냅니다\",\n",
    "        metadata={\"id\": 5,\"name\":\"seo\"},\n",
    "    ),\n",
    "    Document(\n",
    "        page_content=\"세명의 남자가 존 안으로 들어가고, 세명의 남자가 존 밖으로 나갑니다\",\n",
    "        metadata={\"id\": 6,\"name\":\"bae\"},\n",
    "    ),\n",
    "]\n",
    "\n",
    "\n",
    "model_name = \"jhgan/ko-sbert-nli\"\n",
    "encode_kwargs = {'normalize_embeddings': True}\n",
    "hf = HuggingFaceEmbeddings(\n",
    "    model_name=model_name,\n",
    "    encode_kwargs=encode_kwargs\n",
    ")"
   ]
  },
  {
   "cell_type": "code",
   "execution_count": 9,
   "id": "efba2334-0a16-4281-9af1-dd4597de061e",
   "metadata": {},
   "outputs": [],
   "source": [
    "db = ElasticsearchStore.from_documents(\n",
    "    docs,\n",
    "    hf,\n",
    "    es_connection=es_client,\n",
    "    index_name=\"test1\",\n",
    "    distance_strategy=\"COSINE\"\n",
    "    #distance_strategy=\"EUCLIDEAN_DISTANCE\"\n",
    "    #distance_strategy=\"DOT_PRODUCT\"\n",
    ")"
   ]
  },
  {
   "cell_type": "code",
   "execution_count": 10,
   "id": "1ab5e5f8-257c-4f09-ae8d-c8ab8f9e8560",
   "metadata": {},
   "outputs": [
    {
     "name": "stdout",
     "output_type": "stream",
     "text": [
      "[Document(page_content='장난감은 살아나고 그렇게 하면서 즐거운 시간을 보냅니다', metadata={'id': 5, 'name': 'seo'}), Document(page_content='심리학자/탐정이 꿈속에서 꿈속에서 일련의 꿈속에서 길을 잃고 인셉은 이 아이디어를 재사용합니다', metadata={'id': 3, 'name': 'choi'}), Document(page_content='레오 디카프리오는 꿈속에서 꿈속에서 길을 잃습니다...', metadata={'id': 2, 'name': 'lee'})]\n"
     ]
    }
   ],
   "source": [
    "query = \"장난감 나오는 영화가 뭐야?\"\n",
    "results = db.similarity_search(query,k=3)\n",
    "print(results)"
   ]
  },
  {
   "cell_type": "code",
   "execution_count": 11,
   "id": "37162910-0158-4fe7-bf8a-295300465bc8",
   "metadata": {},
   "outputs": [
    {
     "name": "stdout",
     "output_type": "stream",
     "text": [
      "{'id': 5, 'name': 'seo'}\n"
     ]
    }
   ],
   "source": [
    "docs = db.similarity_search(query)\n",
    "print(docs[0].metadata)"
   ]
  },
  {
   "cell_type": "code",
   "execution_count": 29,
   "id": "fa84713f-467c-41a8-b01e-d66fb44eb6a7",
   "metadata": {},
   "outputs": [
    {
     "name": "stdout",
     "output_type": "stream",
     "text": [
      "{'id': 4, 'name': 'park'}\n"
     ]
    }
   ],
   "source": [
    "docs = db.similarity_search(\n",
    "    query, filter=[{\"term\": {\"metadata.name.keyword\": \"park\"}}]\n",
    ")\n",
    "print(docs[0].metadata)"
   ]
  },
  {
   "cell_type": "code",
   "execution_count": 16,
   "id": "9d77f863-aeaf-48b8-85e9-cffe5830e2a7",
   "metadata": {},
   "outputs": [],
   "source": [
    "db = ElasticsearchStore.from_documents(\n",
    "    docs,\n",
    "    hf,\n",
    "    es_connection=es_client,\n",
    "    index_name=\"test2\",\n",
    "    distance_strategy=\"COSINE\",\n",
    "    #distance_strategy=\"EUCLIDEAN_DISTANCE\"\n",
    "    #distance_strategy=\"DOT_PRODUCT\",\n",
    "    strategy=ElasticsearchStore.ApproxRetrievalStrategy()\n",
    ")"
   ]
  },
  {
   "cell_type": "code",
   "execution_count": 17,
   "id": "7d305226-afb1-4d1f-b078-ac90176722d0",
   "metadata": {},
   "outputs": [
    {
     "name": "stdout",
     "output_type": "stream",
     "text": [
      "[Document(page_content='장난감은 살아나고 그렇게 하면서 즐거운 시간을 보냅니다', metadata={'id': 5, 'name': 'seo'}), Document(page_content='심리학자/탐정이 꿈속에서 꿈속에서 일련의 꿈속에서 길을 잃고 인셉은 이 아이디어를 재사용합니다', metadata={'id': 3, 'name': 'choi'}), Document(page_content='레오 디카프리오는 꿈속에서 꿈속에서 길을 잃습니다...', metadata={'id': 2, 'name': 'lee'})]\n"
     ]
    }
   ],
   "source": [
    "query = \"장난감 나오는 영화가 뭐야?\"\n",
    "results = db.similarity_search(query,k=3)\n",
    "print(results)"
   ]
  },
  {
   "cell_type": "code",
   "execution_count": null,
   "id": "0a2a1fbb-5ffd-4f98-b37f-4e714df9aadb",
   "metadata": {},
   "outputs": [],
   "source": []
  }
 ],
 "metadata": {
  "kernelspec": {
   "display_name": "myenv",
   "language": "python",
   "name": "myenv"
  },
  "language_info": {
   "codemirror_mode": {
    "name": "ipython",
    "version": 3
   },
   "file_extension": ".py",
   "mimetype": "text/x-python",
   "name": "python",
   "nbconvert_exporter": "python",
   "pygments_lexer": "ipython3",
   "version": "3.10.13"
  }
 },
 "nbformat": 4,
 "nbformat_minor": 5
}
